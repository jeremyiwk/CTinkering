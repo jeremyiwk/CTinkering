{
 "cells": [
  {
   "cell_type": "code",
   "execution_count": 1,
   "id": "b77f736d-70a2-4eb9-8609-328bddec9c7f",
   "metadata": {},
   "outputs": [],
   "source": [
    "import numpy as np"
   ]
  },
  {
   "cell_type": "code",
   "execution_count": 7,
   "id": "9d583091-0ccd-4b5e-bff2-7947060e7ae8",
   "metadata": {},
   "outputs": [],
   "source": [
    "x_n = np.cumsum(np.ones(10))"
   ]
  },
  {
   "cell_type": "code",
   "execution_count": 8,
   "id": "6457649f-51ef-4d5e-a291-81b7fe44d854",
   "metadata": {},
   "outputs": [
    {
     "data": {
      "text/plain": [
       "array([ 1.,  2.,  3.,  4.,  5.,  6.,  7.,  8.,  9., 10.])"
      ]
     },
     "execution_count": 8,
     "metadata": {},
     "output_type": "execute_result"
    }
   ],
   "source": [
    "x_n"
   ]
  },
  {
   "cell_type": "code",
   "execution_count": 11,
   "id": "84202a16-1139-4fc8-92af-634c0cea4757",
   "metadata": {},
   "outputs": [],
   "source": [
    "X_k = np.fft.fft(x_n)"
   ]
  },
  {
   "cell_type": "code",
   "execution_count": 12,
   "id": "61be6151-ec58-4827-a744-2dc171dba1b4",
   "metadata": {},
   "outputs": [
    {
     "data": {
      "text/plain": [
       "array([55.+0.00000000e+00j, -5.+1.53884177e+01j, -5.+6.88190960e+00j,\n",
       "       -5.+3.63271264e+00j, -5.+1.62459848e+00j, -5.-1.33226763e-15j,\n",
       "       -5.-1.62459848e+00j, -5.-3.63271264e+00j, -5.-6.88190960e+00j,\n",
       "       -5.-1.53884177e+01j])"
      ]
     },
     "execution_count": 12,
     "metadata": {},
     "output_type": "execute_result"
    }
   ],
   "source": [
    "X_k"
   ]
  },
  {
   "cell_type": "code",
   "execution_count": 16,
   "id": "1744d5f5-4616-4b42-9c22-7407f643c5a6",
   "metadata": {},
   "outputs": [],
   "source": [
    "np.savetxt(\"X_k.txt\",X_k)"
   ]
  },
  {
   "cell_type": "code",
   "execution_count": 18,
   "id": "00d3f8f0-c96f-4bbb-bf76-74b5b3bb3b7e",
   "metadata": {},
   "outputs": [
    {
     "ename": "TypeError",
     "evalue": "data type '_complex' not understood",
     "output_type": "error",
     "traceback": [
      "\u001b[0;31m---------------------------------------------------------------------------\u001b[0m",
      "\u001b[0;31mTypeError\u001b[0m                                 Traceback (most recent call last)",
      "\u001b[0;32m/var/folders/_z/8zm7j_1d7_zgbxx9jtl_w1lr0000gn/T/ipykernel_1875/15571617.py\u001b[0m in \u001b[0;36m<module>\u001b[0;34m\u001b[0m\n\u001b[0;32m----> 1\u001b[0;31m \u001b[0mnp\u001b[0m\u001b[0;34m.\u001b[0m\u001b[0mloadtxt\u001b[0m\u001b[0;34m(\u001b[0m\u001b[0;34m\"X_k.txt\"\u001b[0m\u001b[0;34m,\u001b[0m\u001b[0mdtype\u001b[0m\u001b[0;34m=\u001b[0m\u001b[0;34m\"_complex\"\u001b[0m\u001b[0;34m)\u001b[0m\u001b[0;34m\u001b[0m\u001b[0;34m\u001b[0m\u001b[0m\n\u001b[0m",
      "\u001b[0;32m~/anaconda3/lib/python3.7/site-packages/numpy/lib/npyio.py\u001b[0m in \u001b[0;36mloadtxt\u001b[0;34m(fname, dtype, comments, delimiter, converters, skiprows, usecols, unpack, ndmin, encoding, max_rows, like)\u001b[0m\n\u001b[1;32m   1053\u001b[0m \u001b[0;34m\u001b[0m\u001b[0m\n\u001b[1;32m   1054\u001b[0m     \u001b[0;31m# Make sure we're dealing with a proper dtype\u001b[0m\u001b[0;34m\u001b[0m\u001b[0;34m\u001b[0m\u001b[0;34m\u001b[0m\u001b[0m\n\u001b[0;32m-> 1055\u001b[0;31m     \u001b[0mdtype\u001b[0m \u001b[0;34m=\u001b[0m \u001b[0mnp\u001b[0m\u001b[0;34m.\u001b[0m\u001b[0mdtype\u001b[0m\u001b[0;34m(\u001b[0m\u001b[0mdtype\u001b[0m\u001b[0;34m)\u001b[0m\u001b[0;34m\u001b[0m\u001b[0;34m\u001b[0m\u001b[0m\n\u001b[0m\u001b[1;32m   1056\u001b[0m     \u001b[0mdefconv\u001b[0m \u001b[0;34m=\u001b[0m \u001b[0m_getconv\u001b[0m\u001b[0;34m(\u001b[0m\u001b[0mdtype\u001b[0m\u001b[0;34m)\u001b[0m\u001b[0;34m\u001b[0m\u001b[0;34m\u001b[0m\u001b[0m\n\u001b[1;32m   1057\u001b[0m \u001b[0;34m\u001b[0m\u001b[0m\n",
      "\u001b[0;31mTypeError\u001b[0m: data type '_complex' not understood"
     ]
    }
   ],
   "source": [
    "np.loadtxt(\"X_k.txt\",dtype=\"_complex\")"
   ]
  },
  {
   "cell_type": "code",
   "execution_count": 19,
   "id": "4268ec78-155d-48fa-8e15-70c43d6cca0c",
   "metadata": {},
   "outputs": [
    {
     "data": {
      "text/plain": [
       "\u001b[0;31mSignature:\u001b[0m\n",
       "\u001b[0mnp\u001b[0m\u001b[0;34m.\u001b[0m\u001b[0mloadtxt\u001b[0m\u001b[0;34m(\u001b[0m\u001b[0;34m\u001b[0m\n",
       "\u001b[0;34m\u001b[0m    \u001b[0mfname\u001b[0m\u001b[0;34m,\u001b[0m\u001b[0;34m\u001b[0m\n",
       "\u001b[0;34m\u001b[0m    \u001b[0mdtype\u001b[0m\u001b[0;34m=\u001b[0m\u001b[0;34m<\u001b[0m\u001b[0;32mclass\u001b[0m \u001b[0;34m'float'\u001b[0m\u001b[0;34m>\u001b[0m\u001b[0;34m,\u001b[0m\u001b[0;34m\u001b[0m\n",
       "\u001b[0;34m\u001b[0m    \u001b[0mcomments\u001b[0m\u001b[0;34m=\u001b[0m\u001b[0;34m'#'\u001b[0m\u001b[0;34m,\u001b[0m\u001b[0;34m\u001b[0m\n",
       "\u001b[0;34m\u001b[0m    \u001b[0mdelimiter\u001b[0m\u001b[0;34m=\u001b[0m\u001b[0;32mNone\u001b[0m\u001b[0;34m,\u001b[0m\u001b[0;34m\u001b[0m\n",
       "\u001b[0;34m\u001b[0m    \u001b[0mconverters\u001b[0m\u001b[0;34m=\u001b[0m\u001b[0;32mNone\u001b[0m\u001b[0;34m,\u001b[0m\u001b[0;34m\u001b[0m\n",
       "\u001b[0;34m\u001b[0m    \u001b[0mskiprows\u001b[0m\u001b[0;34m=\u001b[0m\u001b[0;36m0\u001b[0m\u001b[0;34m,\u001b[0m\u001b[0;34m\u001b[0m\n",
       "\u001b[0;34m\u001b[0m    \u001b[0musecols\u001b[0m\u001b[0;34m=\u001b[0m\u001b[0;32mNone\u001b[0m\u001b[0;34m,\u001b[0m\u001b[0;34m\u001b[0m\n",
       "\u001b[0;34m\u001b[0m    \u001b[0munpack\u001b[0m\u001b[0;34m=\u001b[0m\u001b[0;32mFalse\u001b[0m\u001b[0;34m,\u001b[0m\u001b[0;34m\u001b[0m\n",
       "\u001b[0;34m\u001b[0m    \u001b[0mndmin\u001b[0m\u001b[0;34m=\u001b[0m\u001b[0;36m0\u001b[0m\u001b[0;34m,\u001b[0m\u001b[0;34m\u001b[0m\n",
       "\u001b[0;34m\u001b[0m    \u001b[0mencoding\u001b[0m\u001b[0;34m=\u001b[0m\u001b[0;34m'bytes'\u001b[0m\u001b[0;34m,\u001b[0m\u001b[0;34m\u001b[0m\n",
       "\u001b[0;34m\u001b[0m    \u001b[0mmax_rows\u001b[0m\u001b[0;34m=\u001b[0m\u001b[0;32mNone\u001b[0m\u001b[0;34m,\u001b[0m\u001b[0;34m\u001b[0m\n",
       "\u001b[0;34m\u001b[0m    \u001b[0;34m*\u001b[0m\u001b[0;34m,\u001b[0m\u001b[0;34m\u001b[0m\n",
       "\u001b[0;34m\u001b[0m    \u001b[0mlike\u001b[0m\u001b[0;34m=\u001b[0m\u001b[0;32mNone\u001b[0m\u001b[0;34m,\u001b[0m\u001b[0;34m\u001b[0m\n",
       "\u001b[0;34m\u001b[0m\u001b[0;34m)\u001b[0m\u001b[0;34m\u001b[0m\u001b[0;34m\u001b[0m\u001b[0m\n",
       "\u001b[0;31mDocstring:\u001b[0m\n",
       "Load data from a text file.\n",
       "\n",
       "Each row in the text file must have the same number of values.\n",
       "\n",
       "Parameters\n",
       "----------\n",
       "fname : file, str, or pathlib.Path\n",
       "    File, filename, or generator to read.  If the filename extension is\n",
       "    ``.gz`` or ``.bz2``, the file is first decompressed. Note that\n",
       "    generators should return byte strings.\n",
       "dtype : data-type, optional\n",
       "    Data-type of the resulting array; default: float.  If this is a\n",
       "    structured data-type, the resulting array will be 1-dimensional, and\n",
       "    each row will be interpreted as an element of the array.  In this\n",
       "    case, the number of columns used must match the number of fields in\n",
       "    the data-type.\n",
       "comments : str or sequence of str, optional\n",
       "    The characters or list of characters used to indicate the start of a\n",
       "    comment. None implies no comments. For backwards compatibility, byte\n",
       "    strings will be decoded as 'latin1'. The default is '#'.\n",
       "delimiter : str, optional\n",
       "    The string used to separate values. For backwards compatibility, byte\n",
       "    strings will be decoded as 'latin1'. The default is whitespace.\n",
       "converters : dict, optional\n",
       "    A dictionary mapping column number to a function that will parse the\n",
       "    column string into the desired value.  E.g., if column 0 is a date\n",
       "    string: ``converters = {0: datestr2num}``.  Converters can also be\n",
       "    used to provide a default value for missing data (but see also\n",
       "    `genfromtxt`): ``converters = {3: lambda s: float(s.strip() or 0)}``.\n",
       "    Default: None.\n",
       "skiprows : int, optional\n",
       "    Skip the first `skiprows` lines, including comments; default: 0.\n",
       "usecols : int or sequence, optional\n",
       "    Which columns to read, with 0 being the first. For example,\n",
       "    ``usecols = (1,4,5)`` will extract the 2nd, 5th and 6th columns.\n",
       "    The default, None, results in all columns being read.\n",
       "\n",
       "    .. versionchanged:: 1.11.0\n",
       "        When a single column has to be read it is possible to use\n",
       "        an integer instead of a tuple. E.g ``usecols = 3`` reads the\n",
       "        fourth column the same way as ``usecols = (3,)`` would.\n",
       "unpack : bool, optional\n",
       "    If True, the returned array is transposed, so that arguments may be\n",
       "    unpacked using ``x, y, z = loadtxt(...)``.  When used with a\n",
       "    structured data-type, arrays are returned for each field.\n",
       "    Default is False.\n",
       "ndmin : int, optional\n",
       "    The returned array will have at least `ndmin` dimensions.\n",
       "    Otherwise mono-dimensional axes will be squeezed.\n",
       "    Legal values: 0 (default), 1 or 2.\n",
       "\n",
       "    .. versionadded:: 1.6.0\n",
       "encoding : str, optional\n",
       "    Encoding used to decode the inputfile. Does not apply to input streams.\n",
       "    The special value 'bytes' enables backward compatibility workarounds\n",
       "    that ensures you receive byte arrays as results if possible and passes\n",
       "    'latin1' encoded strings to converters. Override this value to receive\n",
       "    unicode arrays and pass strings as input to converters.  If set to None\n",
       "    the system default is used. The default value is 'bytes'.\n",
       "\n",
       "    .. versionadded:: 1.14.0\n",
       "max_rows : int, optional\n",
       "    Read `max_rows` lines of content after `skiprows` lines. The default\n",
       "    is to read all the lines.\n",
       "\n",
       "    .. versionadded:: 1.16.0\n",
       "like : array_like\n",
       "    Reference object to allow the creation of arrays which are not\n",
       "    NumPy arrays. If an array-like passed in as ``like`` supports\n",
       "    the ``__array_function__`` protocol, the result will be defined\n",
       "    by it. In this case, it ensures the creation of an array object\n",
       "    compatible with that passed in via this argument.\n",
       "\n",
       "    .. note::\n",
       "        The ``like`` keyword is an experimental feature pending on\n",
       "        acceptance of :ref:`NEP 35 <NEP35>`.\n",
       "\n",
       "    .. versionadded:: 1.20.0\n",
       "\n",
       "Returns\n",
       "-------\n",
       "out : ndarray\n",
       "    Data read from the text file.\n",
       "\n",
       "See Also\n",
       "--------\n",
       "load, fromstring, fromregex\n",
       "genfromtxt : Load data with missing values handled as specified.\n",
       "scipy.io.loadmat : reads MATLAB data files\n",
       "\n",
       "Notes\n",
       "-----\n",
       "This function aims to be a fast reader for simply formatted files.  The\n",
       "`genfromtxt` function provides more sophisticated handling of, e.g.,\n",
       "lines with missing values.\n",
       "\n",
       ".. versionadded:: 1.10.0\n",
       "\n",
       "The strings produced by the Python float.hex method can be used as\n",
       "input for floats.\n",
       "\n",
       "Examples\n",
       "--------\n",
       ">>> from io import StringIO   # StringIO behaves like a file object\n",
       ">>> c = StringIO(\"0 1\\n2 3\")\n",
       ">>> np.loadtxt(c)\n",
       "array([[0., 1.],\n",
       "       [2., 3.]])\n",
       "\n",
       ">>> d = StringIO(\"M 21 72\\nF 35 58\")\n",
       ">>> np.loadtxt(d, dtype={'names': ('gender', 'age', 'weight'),\n",
       "...                      'formats': ('S1', 'i4', 'f4')})\n",
       "array([(b'M', 21, 72.), (b'F', 35, 58.)],\n",
       "      dtype=[('gender', 'S1'), ('age', '<i4'), ('weight', '<f4')])\n",
       "\n",
       ">>> c = StringIO(\"1,0,2\\n3,0,4\")\n",
       ">>> x, y = np.loadtxt(c, delimiter=',', usecols=(0, 2), unpack=True)\n",
       ">>> x\n",
       "array([1., 3.])\n",
       ">>> y\n",
       "array([2., 4.])\n",
       "\n",
       "This example shows how `converters` can be used to convert a field\n",
       "with a trailing minus sign into a negative number.\n",
       "\n",
       ">>> s = StringIO('10.01 31.25-\\n19.22 64.31\\n17.57- 63.94')\n",
       ">>> def conv(fld):\n",
       "...     return -float(fld[:-1]) if fld.endswith(b'-') else float(fld)\n",
       "...\n",
       ">>> np.loadtxt(s, converters={0: conv, 1: conv})\n",
       "array([[ 10.01, -31.25],\n",
       "       [ 19.22,  64.31],\n",
       "       [-17.57,  63.94]])\n",
       "\u001b[0;31mFile:\u001b[0m      ~/anaconda3/lib/python3.7/site-packages/numpy/lib/npyio.py\n",
       "\u001b[0;31mType:\u001b[0m      function\n"
      ]
     },
     "metadata": {},
     "output_type": "display_data"
    }
   ],
   "source": [
    "?np.loadtxt"
   ]
  },
  {
   "cell_type": "code",
   "execution_count": null,
   "id": "cbbe4f53-e532-40db-9707-fa4c99ccf154",
   "metadata": {},
   "outputs": [],
   "source": []
  }
 ],
 "metadata": {
  "kernelspec": {
   "display_name": "Python 3 (ipykernel)",
   "language": "python",
   "name": "python3"
  },
  "language_info": {
   "codemirror_mode": {
    "name": "ipython",
    "version": 3
   },
   "file_extension": ".py",
   "mimetype": "text/x-python",
   "name": "python",
   "nbconvert_exporter": "python",
   "pygments_lexer": "ipython3",
   "version": "3.7.2"
  }
 },
 "nbformat": 4,
 "nbformat_minor": 5
}
